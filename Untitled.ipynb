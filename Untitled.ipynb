{
 "cells": [
  {
   "cell_type": "code",
   "execution_count": 8,
   "id": "6ce5611a-c143-4dee-b782-c3b50d768cca",
   "metadata": {},
   "outputs": [
    {
     "name": "stdout",
     "output_type": "stream",
     "text": [
      "The bird chirps.\n"
     ]
    }
   ],
   "source": [
    "from bird import Bird\n",
    "\n",
    "# Create an instance of Bird\n",
    "parrot = Bird(3, \"Green\")\n",
    "\n",
    "print(parrot.sound())  # Output: The bird chirps.\n"
   ]
  },
  {
   "cell_type": "code",
   "execution_count": null,
   "id": "955c9191-b037-445f-9841-04f389f893c6",
   "metadata": {},
   "outputs": [],
   "source": []
  }
 ],
 "metadata": {
  "kernelspec": {
   "display_name": "Python 3 (ipykernel)",
   "language": "python",
   "name": "python3"
  },
  "language_info": {
   "codemirror_mode": {
    "name": "ipython",
    "version": 3
   },
   "file_extension": ".py",
   "mimetype": "text/x-python",
   "name": "python",
   "nbconvert_exporter": "python",
   "pygments_lexer": "ipython3",
   "version": "3.9.12"
  }
 },
 "nbformat": 4,
 "nbformat_minor": 5
}
