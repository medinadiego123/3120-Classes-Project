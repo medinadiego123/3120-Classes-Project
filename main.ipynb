{
 "cells": [
  {
   "cell_type": "code",
   "execution_count": 16,
   "metadata": {},
   "outputs": [
    {
     "name": "stdout",
     "output_type": "stream",
     "text": [
      "Dog, Age: 5, Color: Brown, Habitat: Domestic\n",
      "The Dog barks.\n",
      "Cat, Age: 2, Color: White, Habitat: Domestic\n",
      "The Cat meows.\n",
      "Tiger, Age: 4, Color: Orange, Habitat: Jungle\n",
      "The Tiger roars.\n"
     ]
    }
   ],
   "source": [
    "from animal import Dog, Cat, Tiger, Bird\n",
    "\n",
    "animals = [\n",
    "    Dog(5, \"Brown\", \"Golden Retriever\"),\n",
    "    Cat(2, \"White\"),\n",
    "    Tiger(4, \"Orange\"),\n",
    "    Bird(2, \"Gray\")\n",
    "]\n",
    "for animal in animals:\n",
    "    print(animal)\n",
    "    print(animal.sound())\n",
    "    # animal.eat() = The animal is eating\n",
    "    # animal.move() = The animal is moving"
   ]
  },
  {
   "cell_type": "code",
   "execution_count": null,
   "metadata": {},
   "outputs": [],
   "source": []
  }
 ],
 "metadata": {
  "kernelspec": {
   "display_name": "base",
   "language": "python",
   "name": "python3"
  },
  "language_info": {
   "codemirror_mode": {
    "name": "ipython",
    "version": 3
   },
   "file_extension": ".py",
   "mimetype": "text/x-python",
   "name": "python",
   "nbconvert_exporter": "python",
   "pygments_lexer": "ipython3",
   "version": "3.12.4"
  }
 },
 "nbformat": 4,
 "nbformat_minor": 2
}
